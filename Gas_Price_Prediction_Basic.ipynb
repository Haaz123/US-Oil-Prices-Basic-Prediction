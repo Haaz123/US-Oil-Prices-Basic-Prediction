{
  "nbformat": 4,
  "nbformat_minor": 0,
  "metadata": {
    "colab": {
      "name": "Gas Price Prediction Basic.ipynb",
      "provenance": [],
      "authorship_tag": "ABX9TyPZGNn0EN9II9aSYgMupBjY",
      "include_colab_link": true
    },
    "kernelspec": {
      "name": "python3",
      "display_name": "Python 3"
    }
  },
  "cells": [
    {
      "cell_type": "markdown",
      "metadata": {
        "id": "view-in-github",
        "colab_type": "text"
      },
      "source": [
        "<a href=\"https://colab.research.google.com/github/Haaz123/US-Oil-Prices-Basic-Prediction/blob/main/Gas_Price_Prediction_Basic.ipynb\" target=\"_parent\"><img src=\"https://colab.research.google.com/assets/colab-badge.svg\" alt=\"Open In Colab\"/></a>"
      ]
    },
    {
      "cell_type": "code",
      "metadata": {
        "id": "fn0MlKLTiQ7K"
      },
      "source": [
        "\r\n",
        "# A machine learning library used for linear regression\r\n",
        "from sklearn.linear_model import LinearRegression\r\n",
        "# numpy and pandas will be used for data manipulation\r\n",
        "import numpy as np\r\n",
        "import pandas as pd\r\n",
        "# matplotlib will be used for visually representing our data\r\n",
        "import matplotlib.pyplot as plt"
      ],
      "execution_count": 1,
      "outputs": []
    },
    {
      "cell_type": "code",
      "metadata": {
        "id": "rkZO7GoSiaHv"
      },
      "source": [
        "data = pd.read_csv(\"Monthly oil prices.csv\")"
      ],
      "execution_count": 2,
      "outputs": []
    },
    {
      "cell_type": "code",
      "metadata": {
        "colab": {
          "base_uri": "https://localhost:8080/",
          "height": 106
        },
        "id": "C9PcoI_qi74s",
        "outputId": "b6f00aa2-9cf5-4c50-8e60-73e977b9bd34"
      },
      "source": [
        "data.head(2)"
      ],
      "execution_count": 3,
      "outputs": [
        {
          "output_type": "execute_result",
          "data": {
            "text/html": [
              "<div>\n",
              "<style scoped>\n",
              "    .dataframe tbody tr th:only-of-type {\n",
              "        vertical-align: middle;\n",
              "    }\n",
              "\n",
              "    .dataframe tbody tr th {\n",
              "        vertical-align: top;\n",
              "    }\n",
              "\n",
              "    .dataframe thead th {\n",
              "        text-align: right;\n",
              "    }\n",
              "</style>\n",
              "<table border=\"1\" class=\"dataframe\">\n",
              "  <thead>\n",
              "    <tr style=\"text-align: right;\">\n",
              "      <th></th>\n",
              "      <th>Date</th>\n",
              "      <th>Monthly Prices</th>\n",
              "    </tr>\n",
              "  </thead>\n",
              "  <tbody>\n",
              "    <tr>\n",
              "      <th>0</th>\n",
              "      <td>Apr-1993</td>\n",
              "      <td>1.078</td>\n",
              "    </tr>\n",
              "    <tr>\n",
              "      <th>1</th>\n",
              "      <td>May-1993</td>\n",
              "      <td>1.100</td>\n",
              "    </tr>\n",
              "  </tbody>\n",
              "</table>\n",
              "</div>"
            ],
            "text/plain": [
              "       Date  Monthly Prices\n",
              "0  Apr-1993           1.078\n",
              "1  May-1993           1.100"
            ]
          },
          "metadata": {
            "tags": []
          },
          "execution_count": 3
        }
      ]
    },
    {
      "cell_type": "code",
      "metadata": {
        "id": "frovz6Llu8ed"
      },
      "source": [
        ""
      ],
      "execution_count": 3,
      "outputs": []
    },
    {
      "cell_type": "code",
      "metadata": {
        "id": "VVWrpKvRjbeR"
      },
      "source": [
        "n_data = data.rename(columns={'Monthly Prices' : 'Prices'}, inplace=False)"
      ],
      "execution_count": 4,
      "outputs": []
    },
    {
      "cell_type": "code",
      "metadata": {
        "colab": {
          "base_uri": "https://localhost:8080/",
          "height": 337
        },
        "id": "wHk4RzX4vMmH",
        "outputId": "97f3039a-c443-4aeb-80dc-f32d3228fde7"
      },
      "source": [
        "# Setting the text on the Y-axis\r\n",
        "plt.ylabel(\"Gas Prices: US\")\r\n",
        "\r\n",
        "# Setting the size of our graph\r\n",
        "n_data.Prices.plot(figsize=(10,5))"
      ],
      "execution_count": 5,
      "outputs": [
        {
          "output_type": "execute_result",
          "data": {
            "text/plain": [
              "<matplotlib.axes._subplots.AxesSubplot at 0x7f220f9b5c50>"
            ]
          },
          "metadata": {
            "tags": []
          },
          "execution_count": 5
        },
        {
          "output_type": "display_data",
          "data": {
            "image/png": "[encoded data removed]",
            "text/plain": [
              "<Figure size 720x360 with 1 Axes>"
            ]
          },
          "metadata": {
            "tags": [],
            "needs_background": "light"
          }
        }
      ]
    },
    {
      "cell_type": "code",
      "metadata": {
        "id": "AeQp4QoDuvyY"
      },
      "source": [
        ""
      ],
      "execution_count": 5,
      "outputs": []
    },
    {
      "cell_type": "code",
      "metadata": {
        "id": "639AbkwauqCp"
      },
      "source": [
        "n_data[[\"Month\", \"Year\"]]= n_data.Date.str.split('-', expand=True)"
      ],
      "execution_count": 6,
      "outputs": []
    },
    {
      "cell_type": "code",
      "metadata": {
        "id": "z2WQX-Jqu2vk"
      },
      "source": [
        "n_data = n_data.drop(columns=[\"Date\"])"
      ],
      "execution_count": 7,
      "outputs": []
    },
    {
      "cell_type": "code",
      "metadata": {
        "colab": {
          "base_uri": "https://localhost:8080/",
          "height": 195
        },
        "id": "CTLZGKOAi9zi",
        "outputId": "d83901d2-64d4-4893-f52a-59b00e6c7e55"
      },
      "source": [
        "n_data.head()"
      ],
      "execution_count": 8,
      "outputs": [
        {
          "output_type": "execute_result",
          "data": {
            "text/html": [
              "<div>\n",
              "<style scoped>\n",
              "    .dataframe tbody tr th:only-of-type {\n",
              "        vertical-align: middle;\n",
              "    }\n",
              "\n",
              "    .dataframe tbody tr th {\n",
              "        vertical-align: top;\n",
              "    }\n",
              "\n",
              "    .dataframe thead th {\n",
              "        text-align: right;\n",
              "    }\n",
              "</style>\n",
              "<table border=\"1\" class=\"dataframe\">\n",
              "  <thead>\n",
              "    <tr style=\"text-align: right;\">\n",
              "      <th></th>\n",
              "      <th>Prices</th>\n",
              "      <th>Month</th>\n",
              "      <th>Year</th>\n",
              "    </tr>\n",
              "  </thead>\n",
              "  <tbody>\n",
              "    <tr>\n",
              "      <th>0</th>\n",
              "      <td>1.078</td>\n",
              "      <td>Apr</td>\n",
              "      <td>1993</td>\n",
              "    </tr>\n",
              "    <tr>\n",
              "      <th>1</th>\n",
              "      <td>1.100</td>\n",
              "      <td>May</td>\n",
              "      <td>1993</td>\n",
              "    </tr>\n",
              "    <tr>\n",
              "      <th>2</th>\n",
              "      <td>1.097</td>\n",
              "      <td>Jun</td>\n",
              "      <td>1993</td>\n",
              "    </tr>\n",
              "    <tr>\n",
              "      <th>3</th>\n",
              "      <td>1.078</td>\n",
              "      <td>Jul</td>\n",
              "      <td>1993</td>\n",
              "    </tr>\n",
              "    <tr>\n",
              "      <th>4</th>\n",
              "      <td>1.062</td>\n",
              "      <td>Aug</td>\n",
              "      <td>1993</td>\n",
              "    </tr>\n",
              "  </tbody>\n",
              "</table>\n",
              "</div>"
            ],
            "text/plain": [
              "   Prices Month  Year\n",
              "0   1.078   Apr  1993\n",
              "1   1.100   May  1993\n",
              "2   1.097   Jun  1993\n",
              "3   1.078   Jul  1993\n",
              "4   1.062   Aug  1993"
            ]
          },
          "metadata": {
            "tags": []
          },
          "execution_count": 8
        }
      ]
    },
    {
      "cell_type": "code",
      "metadata": {
        "id": "sPLb2LBQvkGn"
      },
      "source": [
        "data_n = n_data.copy()"
      ],
      "execution_count": 9,
      "outputs": []
    },
    {
      "cell_type": "code",
      "metadata": {
        "id": "UrEKYIgbvu5h"
      },
      "source": [
        "month = {\"Jan\" : 1, 'Feb' : 2, 'Mar': 3, 'Apr': 4, 'May': 5, 'Jun': 6, 'Jul': 7, 'Aug' : 8, 'Sep': 9, 'Oct': 10, 'Nov' : 11, 'Dec': 12}"
      ],
      "execution_count": 10,
      "outputs": []
    },
    {
      "cell_type": "code",
      "metadata": {
        "id": "fgboED1OxFmX"
      },
      "source": [
        "data_n = data_n.dropna(axis=0)"
      ],
      "execution_count": 11,
      "outputs": []
    },
    {
      "cell_type": "code",
      "metadata": {
        "id": "84yrDc0tv4qf"
      },
      "source": [
        "d = data_n.Month.replace(to_replace=month, value = None)"
      ],
      "execution_count": 12,
      "outputs": []
    },
    {
      "cell_type": "code",
      "metadata": {
        "id": "ciye1Y6nyaSH"
      },
      "source": [
        ""
      ],
      "execution_count": 12,
      "outputs": []
    },
    {
      "cell_type": "code",
      "metadata": {
        "id": "X9st2mLHxdoF"
      },
      "source": [
        "data_n[\"Month\"] = d.astype(str)"
      ],
      "execution_count": 13,
      "outputs": []
    },
    {
      "cell_type": "code",
      "metadata": {
        "colab": {
          "base_uri": "https://localhost:8080/",
          "height": 402
        },
        "id": "vfyYRF4lyCgN",
        "outputId": "b30ef05e-9393-47d6-fe52-6cc0b34223da"
      },
      "source": [
        "data_n"
      ],
      "execution_count": 14,
      "outputs": [
        {
          "output_type": "execute_result",
          "data": {
            "text/html": [
              "<div>\n",
              "<style scoped>\n",
              "    .dataframe tbody tr th:only-of-type {\n",
              "        vertical-align: middle;\n",
              "    }\n",
              "\n",
              "    .dataframe tbody tr th {\n",
              "        vertical-align: top;\n",
              "    }\n",
              "\n",
              "    .dataframe thead th {\n",
              "        text-align: right;\n",
              "    }\n",
              "</style>\n",
              "<table border=\"1\" class=\"dataframe\">\n",
              "  <thead>\n",
              "    <tr style=\"text-align: right;\">\n",
              "      <th></th>\n",
              "      <th>Prices</th>\n",
              "      <th>Month</th>\n",
              "      <th>Year</th>\n",
              "    </tr>\n",
              "  </thead>\n",
              "  <tbody>\n",
              "    <tr>\n",
              "      <th>0</th>\n",
              "      <td>1.078</td>\n",
              "      <td>4</td>\n",
              "      <td>1993</td>\n",
              "    </tr>\n",
              "    <tr>\n",
              "      <th>1</th>\n",
              "      <td>1.100</td>\n",
              "      <td>5</td>\n",
              "      <td>1993</td>\n",
              "    </tr>\n",
              "    <tr>\n",
              "      <th>2</th>\n",
              "      <td>1.097</td>\n",
              "      <td>6</td>\n",
              "      <td>1993</td>\n",
              "    </tr>\n",
              "    <tr>\n",
              "      <th>3</th>\n",
              "      <td>1.078</td>\n",
              "      <td>7</td>\n",
              "      <td>1993</td>\n",
              "    </tr>\n",
              "    <tr>\n",
              "      <th>4</th>\n",
              "      <td>1.062</td>\n",
              "      <td>8</td>\n",
              "      <td>1993</td>\n",
              "    </tr>\n",
              "    <tr>\n",
              "      <th>...</th>\n",
              "      <td>...</td>\n",
              "      <td>...</td>\n",
              "      <td>...</td>\n",
              "    </tr>\n",
              "    <tr>\n",
              "      <th>330</th>\n",
              "      <td>2.248</td>\n",
              "      <td>10</td>\n",
              "      <td>2020</td>\n",
              "    </tr>\n",
              "    <tr>\n",
              "      <th>331</th>\n",
              "      <td>2.200</td>\n",
              "      <td>11</td>\n",
              "      <td>2020</td>\n",
              "    </tr>\n",
              "    <tr>\n",
              "      <th>332</th>\n",
              "      <td>2.284</td>\n",
              "      <td>12</td>\n",
              "      <td>2020</td>\n",
              "    </tr>\n",
              "    <tr>\n",
              "      <th>333</th>\n",
              "      <td>2.420</td>\n",
              "      <td>1</td>\n",
              "      <td>2021</td>\n",
              "    </tr>\n",
              "    <tr>\n",
              "      <th>334</th>\n",
              "      <td>2.587</td>\n",
              "      <td>2</td>\n",
              "      <td>2021</td>\n",
              "    </tr>\n",
              "  </tbody>\n",
              "</table>\n",
              "<p>335 rows × 3 columns</p>\n",
              "</div>"
            ],
            "text/plain": [
              "     Prices Month  Year\n",
              "0     1.078     4  1993\n",
              "1     1.100     5  1993\n",
              "2     1.097     6  1993\n",
              "3     1.078     7  1993\n",
              "4     1.062     8  1993\n",
              "..      ...   ...   ...\n",
              "330   2.248    10  2020\n",
              "331   2.200    11  2020\n",
              "332   2.284    12  2020\n",
              "333   2.420     1  2021\n",
              "334   2.587     2  2021\n",
              "\n",
              "[335 rows x 3 columns]"
            ]
          },
          "metadata": {
            "tags": []
          },
          "execution_count": 14
        }
      ]
    },
    {
      "cell_type": "code",
      "metadata": {
        "id": "r8Ft9oRNz13Z"
      },
      "source": [
        "data_n['Date'] = \"01\" +  data_n[\"Month\"] +  data_n[\"Year\"]"
      ],
      "execution_count": 15,
      "outputs": []
    },
    {
      "cell_type": "code",
      "metadata": {
        "id": "JPn3TONT1iry"
      },
      "source": [
        "data_n = data_n.drop([\"Month\", \"Year\"], axis= 1)"
      ],
      "execution_count": 16,
      "outputs": []
    },
    {
      "cell_type": "code",
      "metadata": {
        "id": "vI5npizY3kfT"
      },
      "source": [
        "data_n[\"Date\"] = data_n[\"Date\"].astype(str)"
      ],
      "execution_count": 17,
      "outputs": []
    },
    {
      "cell_type": "code",
      "metadata": {
        "id": "vGYSSk-t1-mq"
      },
      "source": [
        "data_n['Date'] =  pd.to_datetime(data_n[\"Date\"],errors='raise', format =  '%m%d%Y')\r\n"
      ],
      "execution_count": 18,
      "outputs": []
    },
    {
      "cell_type": "code",
      "metadata": {
        "colab": {
          "base_uri": "https://localhost:8080/",
          "height": 195
        },
        "id": "jswaX-M_9vL5",
        "outputId": "83d67f8f-df47-4495-9461-18ae8a7c8fa0"
      },
      "source": [
        "data_n.head()"
      ],
      "execution_count": 19,
      "outputs": [
        {
          "output_type": "execute_result",
          "data": {
            "text/html": [
              "<div>\n",
              "<style scoped>\n",
              "    .dataframe tbody tr th:only-of-type {\n",
              "        vertical-align: middle;\n",
              "    }\n",
              "\n",
              "    .dataframe tbody tr th {\n",
              "        vertical-align: top;\n",
              "    }\n",
              "\n",
              "    .dataframe thead th {\n",
              "        text-align: right;\n",
              "    }\n",
              "</style>\n",
              "<table border=\"1\" class=\"dataframe\">\n",
              "  <thead>\n",
              "    <tr style=\"text-align: right;\">\n",
              "      <th></th>\n",
              "      <th>Prices</th>\n",
              "      <th>Date</th>\n",
              "    </tr>\n",
              "  </thead>\n",
              "  <tbody>\n",
              "    <tr>\n",
              "      <th>0</th>\n",
              "      <td>1.078</td>\n",
              "      <td>1993-01-04</td>\n",
              "    </tr>\n",
              "    <tr>\n",
              "      <th>1</th>\n",
              "      <td>1.100</td>\n",
              "      <td>1993-01-05</td>\n",
              "    </tr>\n",
              "    <tr>\n",
              "      <th>2</th>\n",
              "      <td>1.097</td>\n",
              "      <td>1993-01-06</td>\n",
              "    </tr>\n",
              "    <tr>\n",
              "      <th>3</th>\n",
              "      <td>1.078</td>\n",
              "      <td>1993-01-07</td>\n",
              "    </tr>\n",
              "    <tr>\n",
              "      <th>4</th>\n",
              "      <td>1.062</td>\n",
              "      <td>1993-01-08</td>\n",
              "    </tr>\n",
              "  </tbody>\n",
              "</table>\n",
              "</div>"
            ],
            "text/plain": [
              "   Prices       Date\n",
              "0   1.078 1993-01-04\n",
              "1   1.100 1993-01-05\n",
              "2   1.097 1993-01-06\n",
              "3   1.078 1993-01-07\n",
              "4   1.062 1993-01-08"
            ]
          },
          "metadata": {
            "tags": []
          },
          "execution_count": 19
        }
      ]
    },
    {
      "cell_type": "code",
      "metadata": {
        "id": "hpMvAo-FjKZ3"
      },
      "source": [
        "data_n['MA3'] = data_n['Prices'].shift(1).rolling(window=3).mean()\r\n",
        "data_n['MA9']= data_n['Prices'].shift(1).rolling(window=9).mean()"
      ],
      "execution_count": 20,
      "outputs": []
    },
    {
      "cell_type": "code",
      "metadata": {
        "colab": {
          "base_uri": "https://localhost:8080/",
          "height": 195
        },
        "id": "bp7J7rB-k2a4",
        "outputId": "a5ec7c06-678a-4cfe-dc58-4539f0625bda"
      },
      "source": [
        "data_n.head()"
      ],
      "execution_count": 21,
      "outputs": [
        {
          "output_type": "execute_result",
          "data": {
            "text/html": [
              "<div>\n",
              "<style scoped>\n",
              "    .dataframe tbody tr th:only-of-type {\n",
              "        vertical-align: middle;\n",
              "    }\n",
              "\n",
              "    .dataframe tbody tr th {\n",
              "        vertical-align: top;\n",
              "    }\n",
              "\n",
              "    .dataframe thead th {\n",
              "        text-align: right;\n",
              "    }\n",
              "</style>\n",
              "<table border=\"1\" class=\"dataframe\">\n",
              "  <thead>\n",
              "    <tr style=\"text-align: right;\">\n",
              "      <th></th>\n",
              "      <th>Prices</th>\n",
              "      <th>Date</th>\n",
              "      <th>MA3</th>\n",
              "      <th>MA9</th>\n",
              "    </tr>\n",
              "  </thead>\n",
              "  <tbody>\n",
              "    <tr>\n",
              "      <th>0</th>\n",
              "      <td>1.078</td>\n",
              "      <td>1993-01-04</td>\n",
              "      <td>NaN</td>\n",
              "      <td>NaN</td>\n",
              "    </tr>\n",
              "    <tr>\n",
              "      <th>1</th>\n",
              "      <td>1.100</td>\n",
              "      <td>1993-01-05</td>\n",
              "      <td>NaN</td>\n",
              "      <td>NaN</td>\n",
              "    </tr>\n",
              "    <tr>\n",
              "      <th>2</th>\n",
              "      <td>1.097</td>\n",
              "      <td>1993-01-06</td>\n",
              "      <td>NaN</td>\n",
              "      <td>NaN</td>\n",
              "    </tr>\n",
              "    <tr>\n",
              "      <th>3</th>\n",
              "      <td>1.078</td>\n",
              "      <td>1993-01-07</td>\n",
              "      <td>1.091667</td>\n",
              "      <td>NaN</td>\n",
              "    </tr>\n",
              "    <tr>\n",
              "      <th>4</th>\n",
              "      <td>1.062</td>\n",
              "      <td>1993-01-08</td>\n",
              "      <td>1.091667</td>\n",
              "      <td>NaN</td>\n",
              "    </tr>\n",
              "  </tbody>\n",
              "</table>\n",
              "</div>"
            ],
            "text/plain": [
              "   Prices       Date       MA3  MA9\n",
              "0   1.078 1993-01-04       NaN  NaN\n",
              "1   1.100 1993-01-05       NaN  NaN\n",
              "2   1.097 1993-01-06       NaN  NaN\n",
              "3   1.078 1993-01-07  1.091667  NaN\n",
              "4   1.062 1993-01-08  1.091667  NaN"
            ]
          },
          "metadata": {
            "tags": []
          },
          "execution_count": 21
        }
      ]
    },
    {
      "cell_type": "code",
      "metadata": {
        "id": "uLIcz4IrfABg"
      },
      "source": [
        "data_n = data_n.set_index(\"Date\")"
      ],
      "execution_count": 22,
      "outputs": []
    },
    {
      "cell_type": "code",
      "metadata": {
        "colab": {
          "base_uri": "https://localhost:8080/",
          "height": 225
        },
        "id": "fpU2cEydpxCb",
        "outputId": "810bf6a5-5bb1-440b-83b6-a935305b9bbf"
      },
      "source": [
        "# Dropping the NaN values\r\n",
        "data_n = data_n.dropna()\r\n",
        "\r\n",
        "# Initialising X and assigning the two feature variables\r\n",
        "X = data_n[['MA3','MA9']]\r\n",
        "\r\n",
        "# Getting the head of the data\r\n",
        "X.head()\r\n",
        "\r\n"
      ],
      "execution_count": 23,
      "outputs": [
        {
          "output_type": "execute_result",
          "data": {
            "text/html": [
              "<div>\n",
              "<style scoped>\n",
              "    .dataframe tbody tr th:only-of-type {\n",
              "        vertical-align: middle;\n",
              "    }\n",
              "\n",
              "    .dataframe tbody tr th {\n",
              "        vertical-align: top;\n",
              "    }\n",
              "\n",
              "    .dataframe thead th {\n",
              "        text-align: right;\n",
              "    }\n",
              "</style>\n",
              "<table border=\"1\" class=\"dataframe\">\n",
              "  <thead>\n",
              "    <tr style=\"text-align: right;\">\n",
              "      <th></th>\n",
              "      <th>MA3</th>\n",
              "      <th>MA9</th>\n",
              "    </tr>\n",
              "    <tr>\n",
              "      <th>Date</th>\n",
              "      <th></th>\n",
              "      <th></th>\n",
              "    </tr>\n",
              "  </thead>\n",
              "  <tbody>\n",
              "    <tr>\n",
              "      <th>1994-01-01</th>\n",
              "      <td>1.057333</td>\n",
              "      <td>1.070778</td>\n",
              "    </tr>\n",
              "    <tr>\n",
              "      <th>1994-01-02</th>\n",
              "      <td>1.026000</td>\n",
              "      <td>1.061889</td>\n",
              "    </tr>\n",
              "    <tr>\n",
              "      <th>1994-01-03</th>\n",
              "      <td>1.007000</td>\n",
              "      <td>1.051778</td>\n",
              "    </tr>\n",
              "    <tr>\n",
              "      <th>1994-01-04</th>\n",
              "      <td>1.005000</td>\n",
              "      <td>1.041889</td>\n",
              "    </tr>\n",
              "    <tr>\n",
              "      <th>1994-01-05</th>\n",
              "      <td>1.014667</td>\n",
              "      <td>1.036222</td>\n",
              "    </tr>\n",
              "  </tbody>\n",
              "</table>\n",
              "</div>"
            ],
            "text/plain": [
              "                 MA3       MA9\n",
              "Date                          \n",
              "1994-01-01  1.057333  1.070778\n",
              "1994-01-02  1.026000  1.061889\n",
              "1994-01-03  1.007000  1.051778\n",
              "1994-01-04  1.005000  1.041889\n",
              "1994-01-05  1.014667  1.036222"
            ]
          },
          "metadata": {
            "tags": []
          },
          "execution_count": 23
        }
      ]
    },
    {
      "cell_type": "code",
      "metadata": {
        "id": "REh2P7ANtwda"
      },
      "source": [
        "Y = pd.DataFrame(data_n['Prices'])"
      ],
      "execution_count": 24,
      "outputs": []
    },
    {
      "cell_type": "code",
      "metadata": {
        "id": "PSqfM23Puhip"
      },
      "source": [
        "#Y= pd.DataFrame(Y)"
      ],
      "execution_count": 25,
      "outputs": []
    },
    {
      "cell_type": "code",
      "metadata": {
        "colab": {
          "base_uri": "https://localhost:8080/",
          "height": 431
        },
        "id": "u74qXz3nqc6B",
        "outputId": "6200e901-60cc-4749-dc03-593523b19b42"
      },
      "source": [
        "Y"
      ],
      "execution_count": 26,
      "outputs": [
        {
          "output_type": "execute_result",
          "data": {
            "text/html": [
              "<div>\n",
              "<style scoped>\n",
              "    .dataframe tbody tr th:only-of-type {\n",
              "        vertical-align: middle;\n",
              "    }\n",
              "\n",
              "    .dataframe tbody tr th {\n",
              "        vertical-align: top;\n",
              "    }\n",
              "\n",
              "    .dataframe thead th {\n",
              "        text-align: right;\n",
              "    }\n",
              "</style>\n",
              "<table border=\"1\" class=\"dataframe\">\n",
              "  <thead>\n",
              "    <tr style=\"text-align: right;\">\n",
              "      <th></th>\n",
              "      <th>Prices</th>\n",
              "    </tr>\n",
              "    <tr>\n",
              "      <th>Date</th>\n",
              "      <th></th>\n",
              "    </tr>\n",
              "  </thead>\n",
              "  <tbody>\n",
              "    <tr>\n",
              "      <th>1994-01-01</th>\n",
              "      <td>0.998</td>\n",
              "    </tr>\n",
              "    <tr>\n",
              "      <th>1994-01-02</th>\n",
              "      <td>1.009</td>\n",
              "    </tr>\n",
              "    <tr>\n",
              "      <th>1994-01-03</th>\n",
              "      <td>1.008</td>\n",
              "    </tr>\n",
              "    <tr>\n",
              "      <th>1994-01-04</th>\n",
              "      <td>1.027</td>\n",
              "    </tr>\n",
              "    <tr>\n",
              "      <th>1994-01-05</th>\n",
              "      <td>1.047</td>\n",
              "    </tr>\n",
              "    <tr>\n",
              "      <th>...</th>\n",
              "      <td>...</td>\n",
              "    </tr>\n",
              "    <tr>\n",
              "      <th>2020-01-10</th>\n",
              "      <td>2.248</td>\n",
              "    </tr>\n",
              "    <tr>\n",
              "      <th>2020-01-11</th>\n",
              "      <td>2.200</td>\n",
              "    </tr>\n",
              "    <tr>\n",
              "      <th>2020-01-12</th>\n",
              "      <td>2.284</td>\n",
              "    </tr>\n",
              "    <tr>\n",
              "      <th>2021-01-01</th>\n",
              "      <td>2.420</td>\n",
              "    </tr>\n",
              "    <tr>\n",
              "      <th>2021-01-02</th>\n",
              "      <td>2.587</td>\n",
              "    </tr>\n",
              "  </tbody>\n",
              "</table>\n",
              "<p>326 rows × 1 columns</p>\n",
              "</div>"
            ],
            "text/plain": [
              "            Prices\n",
              "Date              \n",
              "1994-01-01   0.998\n",
              "1994-01-02   1.009\n",
              "1994-01-03   1.008\n",
              "1994-01-04   1.027\n",
              "1994-01-05   1.047\n",
              "...            ...\n",
              "2020-01-10   2.248\n",
              "2020-01-11   2.200\n",
              "2020-01-12   2.284\n",
              "2021-01-01   2.420\n",
              "2021-01-02   2.587\n",
              "\n",
              "[326 rows x 1 columns]"
            ]
          },
          "metadata": {
            "tags": []
          },
          "execution_count": 26
        }
      ]
    },
    {
      "cell_type": "code",
      "metadata": {
        "id": "e_iD_uTpqID9"
      },
      "source": [
        "from sklearn.model_selection import train_test_split"
      ],
      "execution_count": 27,
      "outputs": []
    },
    {
      "cell_type": "code",
      "metadata": {
        "id": "NNIL8x2Esnhv"
      },
      "source": [
        "X_train, X_test, y_train, y_test = train_test_split( X, Y, test_size=0.3, random_state=42)"
      ],
      "execution_count": 28,
      "outputs": []
    },
    {
      "cell_type": "code",
      "metadata": {
        "id": "8mXBEfvymEDb"
      },
      "source": [
        "model = LinearRegression().fit(X_train,y_train)"
      ],
      "execution_count": 29,
      "outputs": []
    },
    {
      "cell_type": "code",
      "metadata": {
        "colab": {
          "base_uri": "https://localhost:8080/",
          "height": 318
        },
        "id": "SMYpQg9hm9eY",
        "outputId": "4a368999-c974-4e0b-c7e1-b8561155989f"
      },
      "source": [
        "\r\n",
        "predicted_price = model.predict(X_test)\r\n",
        "predicted_price = pd.DataFrame(predicted_price,index=y_test.index,columns = ['Prices'])\r\n",
        "\r\n",
        "\r\n",
        "ax = predicted_price.plot(figsize=(10,5))\r\n",
        "y_test.plot(ax=ax)\r\n",
        "plt.legend(['Predicted Price','Actual Price'])\r\n",
        "plt.ylabel(\"Gas Prices: US\")\r\n",
        "plt.show()"
      ],
      "execution_count": 30,
      "outputs": [
        {
          "output_type": "display_data",
          "data": {
            "image/png": "[encoded data removed]",
            "text/plain": [
              "<Figure size 720x360 with 1 Axes>"
            ]
          },
          "metadata": {
            "tags": [],
            "needs_background": "light"
          }
        }
      ]
    },
    {
      "cell_type": "code",
      "metadata": {
        "id": "owsjUtcwtMb9"
      },
      "source": [
        ""
      ],
      "execution_count": 30,
      "outputs": []
    },
    {
      "cell_type": "code",
      "metadata": {
        "id": "6WNeaQqstbbl"
      },
      "source": [
        ""
      ],
      "execution_count": 30,
      "outputs": []
    },
    {
      "cell_type": "code",
      "metadata": {
        "colab": {
          "base_uri": "https://localhost:8080/"
        },
        "id": "PS6ywqjOntao",
        "outputId": "66f740a3-6a9a-4de7-a0dd-609bea95feb3"
      },
      "source": [
        "# Computing the accuracy of our model\r\n",
        "R_squared_score = model.score(X_test,y_test)*100\r\n",
        "accuracy = (\"{0:.2f}\".format(R_squared_score))\r\n",
        "print (\"The model has a \" + accuracy + \"% accuracy.\")"
      ],
      "execution_count": 31,
      "outputs": [
        {
          "output_type": "stream",
          "text": [
            "The model has a 91.96% accuracy.\n"
          ],
          "name": "stdout"
        }
      ]
    },
    {
      "cell_type": "code",
      "metadata": {
        "id": "QQEt7yD7tZ1e"
      },
      "source": [
        ""
      ],
      "execution_count": 31,
      "outputs": []
    },
    {
      "cell_type": "code",
      "metadata": {
        "colab": {
          "base_uri": "https://localhost:8080/"
        },
        "id": "zfUKImcdlMNt",
        "outputId": "dfae5885-da22-4a1a-89ec-8c736b397132"
      },
      "source": [
        "print(\"Real Price : %5f, Predicted : %5f\" % (y_test.iloc[25], predicted_price.iloc[25]))\r\n"
      ],
      "execution_count": 32,
      "outputs": [
        {
          "output_type": "stream",
          "text": [
            "Real Price : 2.880000, Predicted : 2.741368\n"
          ],
          "name": "stdout"
        }
      ]
    },
    {
      "cell_type": "code",
      "metadata": {
        "id": "V7J5GpdblWIe"
      },
      "source": [
        ""
      ],
      "execution_count": 32,
      "outputs": []
    }
  ]
}